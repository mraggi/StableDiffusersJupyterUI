{
 "cells": [
  {
   "cell_type": "markdown",
   "id": "72244410-9656-4de1-93f4-72385b39c3c3",
   "metadata": {},
   "source": [
    "!pip install diffusers\n",
    "!pip install fastprogress"
   ]
  },
  {
   "cell_type": "code",
   "execution_count": null,
   "id": "42b3eb98-dc22-43f4-97b7-f984fa8329c2",
   "metadata": {},
   "outputs": [],
   "source": [
    "import torch\n",
    "from math import floor, ceil, sqrt\n",
    "from PIL import Image, ImageDraw, ImageFont\n",
    "import textwrap\n",
    "from fastprogress import progress_bar, master_bar\n",
    "from unified_pipeline import UnifiedStableDiffusionPipeline\n",
    "from generator import EnhancedGenerator\n",
    "import random\n",
    "import os\n",
    "import pathlib\n",
    "import numpy as np\n",
    "from pathlib import Path\n",
    "import gradio as gr\n",
    "from IPython.display import display\n",
    "from delegation import delegates"
   ]
  },
  {
   "cell_type": "code",
   "execution_count": null,
   "id": "d43fb6c7-ad94-4f69-86a7-012d07d7bd18",
   "metadata": {},
   "outputs": [],
   "source": [
    "with open(\"TOKEN\") as tok:\n",
    "    TOKEN = tok.readline()\n",
    "    print(TOKEN)"
   ]
  },
  {
   "cell_type": "code",
   "execution_count": null,
   "id": "481e5d93-0af6-4979-99ab-80abca2fd18f",
   "metadata": {},
   "outputs": [],
   "source": [
    "pipe = UnifiedStableDiffusionPipeline.from_pretrained(\"CompVis/stable-diffusion-v1-4\",\n",
    "                                                   revision=\"fp16\",\n",
    "                                                   torch_dtype = torch.float16,\n",
    "                                                   use_auth_token=TOKEN)\n",
    "\n",
    "#pipe = CoolStableDiffusionPipeline.from_pretrained(\"CompVis/stable-diffusion-v1-4\")\n",
    "\n",
    "pipe.to('cuda');"
   ]
  },
  {
   "cell_type": "code",
   "execution_count": null,
   "id": "a6dee733-fe65-469d-95f4-6c17ea604208",
   "metadata": {},
   "outputs": [],
   "source": [
    "G = EnhancedGenerator(pipe)"
   ]
  },
  {
   "cell_type": "code",
   "execution_count": null,
   "id": "2af46985-6c21-495a-b50b-1168cb64a17b",
   "metadata": {},
   "outputs": [],
   "source": [
    "prompt = \"Island in the middle of the ocean, trending on artstation, beautiful, 4k, high detail, sharp focus, cinematic lighting reflections, [some birds]\""
   ]
  },
  {
   "cell_type": "code",
   "execution_count": null,
   "id": "68aada46-7006-40a2-91cc-b8fcdd7633a9",
   "metadata": {},
   "outputs": [],
   "source": [
    "G.generate_from_scratch(prompt, steps=20, num=1)"
   ]
  },
  {
   "cell_type": "code",
   "execution_count": null,
   "id": "1847c81a-bc79-4b16-b6c6-b762b659d467",
   "metadata": {},
   "outputs": [],
   "source": [
    "G.generate_variants(0,num=2)"
   ]
  },
  {
   "cell_type": "code",
   "execution_count": null,
   "id": "ade4653c-131a-4033-bac6-ce0f22975491",
   "metadata": {},
   "outputs": [],
   "source": [
    "G.modify_image(0,num=2,steps=20)"
   ]
  },
  {
   "cell_type": "code",
   "execution_count": null,
   "id": "0df1f958-0126-47d6-8990-a1c42233879d",
   "metadata": {},
   "outputs": [],
   "source": [
    "G.inpaint_gui(5, num=2, steps=80)"
   ]
  },
  {
   "cell_type": "code",
   "execution_count": null,
   "id": "219c3dc9-23af-48a7-a470-bcf3cf228b17",
   "metadata": {},
   "outputs": [],
   "source": []
  },
  {
   "cell_type": "markdown",
   "id": "3660721d-e156-4b03-932c-066ff8705050",
   "metadata": {},
   "source": [
    "# Generate with artist names"
   ]
  },
  {
   "cell_type": "code",
   "execution_count": null,
   "id": "551b6eee-fecb-412b-b659-827a5d134ffa",
   "metadata": {},
   "outputs": [],
   "source": [
    "with open(\"good_artists.txt\") as A:\n",
    "    artists = [a.strip() for a in A.readlines()]"
   ]
  },
  {
   "cell_type": "code",
   "execution_count": null,
   "id": "11b6549a-5586-4cb3-b7d5-226f5c8974cc",
   "metadata": {
    "tags": []
   },
   "outputs": [],
   "source": [
    "prompts = [prompt] + [f\"{prompt}, by {a}\" for a in artists]"
   ]
  },
  {
   "cell_type": "code",
   "execution_count": null,
   "id": "ae7d425f-3a64-4211-9cbf-42d9363b266d",
   "metadata": {},
   "outputs": [],
   "source": [
    "G.generate_with_prompts(0,prompts[0:4],steps=40)"
   ]
  },
  {
   "cell_type": "code",
   "execution_count": null,
   "id": "dd5dd2b6-925e-4ccb-adc5-351b8671effb",
   "metadata": {},
   "outputs": [],
   "source": []
  }
 ],
 "metadata": {
  "kernelspec": {
   "display_name": "Python 3 (ipykernel)",
   "language": "python",
   "name": "python3"
  },
  "language_info": {
   "codemirror_mode": {
    "name": "ipython",
    "version": 3
   },
   "file_extension": ".py",
   "mimetype": "text/x-python",
   "name": "python",
   "nbconvert_exporter": "python",
   "pygments_lexer": "ipython3",
   "version": "3.9.12"
  }
 },
 "nbformat": 4,
 "nbformat_minor": 5
}
